{
 "cells": [
  {
   "cell_type": "code",
   "execution_count": 1,
   "id": "54dcd602",
   "metadata": {},
   "outputs": [],
   "source": [
    "import numpy as np\n",
    "import pandas as pd\n"
   ]
  },
  {
   "cell_type": "code",
   "execution_count": 2,
   "id": "6f21fe0e",
   "metadata": {},
   "outputs": [],
   "source": [
    "df = pd.read_csv('/Users/Dhairya/Downloads/advertising.csv')"
   ]
  },
  {
   "cell_type": "code",
   "execution_count": 3,
   "id": "687a98de",
   "metadata": {},
   "outputs": [
    {
     "data": {
      "text/html": [
       "<div>\n",
       "<style scoped>\n",
       "    .dataframe tbody tr th:only-of-type {\n",
       "        vertical-align: middle;\n",
       "    }\n",
       "\n",
       "    .dataframe tbody tr th {\n",
       "        vertical-align: top;\n",
       "    }\n",
       "\n",
       "    .dataframe thead th {\n",
       "        text-align: right;\n",
       "    }\n",
       "</style>\n",
       "<table border=\"1\" class=\"dataframe\">\n",
       "  <thead>\n",
       "    <tr style=\"text-align: right;\">\n",
       "      <th></th>\n",
       "      <th>TV</th>\n",
       "      <th>Radio</th>\n",
       "      <th>Newspaper</th>\n",
       "      <th>Sales</th>\n",
       "    </tr>\n",
       "  </thead>\n",
       "  <tbody>\n",
       "    <tr>\n",
       "      <th>0</th>\n",
       "      <td>230.1</td>\n",
       "      <td>37.8</td>\n",
       "      <td>69.2</td>\n",
       "      <td>22.1</td>\n",
       "    </tr>\n",
       "    <tr>\n",
       "      <th>1</th>\n",
       "      <td>44.5</td>\n",
       "      <td>39.3</td>\n",
       "      <td>45.1</td>\n",
       "      <td>10.4</td>\n",
       "    </tr>\n",
       "    <tr>\n",
       "      <th>2</th>\n",
       "      <td>17.2</td>\n",
       "      <td>45.9</td>\n",
       "      <td>69.3</td>\n",
       "      <td>12.0</td>\n",
       "    </tr>\n",
       "    <tr>\n",
       "      <th>3</th>\n",
       "      <td>151.5</td>\n",
       "      <td>41.3</td>\n",
       "      <td>58.5</td>\n",
       "      <td>16.5</td>\n",
       "    </tr>\n",
       "    <tr>\n",
       "      <th>4</th>\n",
       "      <td>180.8</td>\n",
       "      <td>10.8</td>\n",
       "      <td>58.4</td>\n",
       "      <td>17.9</td>\n",
       "    </tr>\n",
       "  </tbody>\n",
       "</table>\n",
       "</div>"
      ],
      "text/plain": [
       "      TV  Radio  Newspaper  Sales\n",
       "0  230.1   37.8       69.2   22.1\n",
       "1   44.5   39.3       45.1   10.4\n",
       "2   17.2   45.9       69.3   12.0\n",
       "3  151.5   41.3       58.5   16.5\n",
       "4  180.8   10.8       58.4   17.9"
      ]
     },
     "execution_count": 3,
     "metadata": {},
     "output_type": "execute_result"
    }
   ],
   "source": [
    "df.head()"
   ]
  },
  {
   "cell_type": "code",
   "execution_count": 6,
   "id": "938a5edb",
   "metadata": {},
   "outputs": [
    {
     "data": {
      "text/plain": [
       "TV           0\n",
       "Radio        0\n",
       "Newspaper    0\n",
       "Sales        0\n",
       "dtype: int64"
      ]
     },
     "execution_count": 6,
     "metadata": {},
     "output_type": "execute_result"
    }
   ],
   "source": [
    "df.isnull().sum()"
   ]
  },
  {
   "cell_type": "code",
   "execution_count": 8,
   "id": "bd197b5e",
   "metadata": {},
   "outputs": [],
   "source": [
    "from sklearn.linear_model import LinearRegression"
   ]
  },
  {
   "cell_type": "code",
   "execution_count": 9,
   "id": "e18e3c31",
   "metadata": {},
   "outputs": [],
   "source": [
    "LR = LinearRegression()"
   ]
  },
  {
   "cell_type": "code",
   "execution_count": 10,
   "id": "2298a3e5",
   "metadata": {},
   "outputs": [],
   "source": [
    "from sklearn.model_selection import train_test_split"
   ]
  },
  {
   "cell_type": "code",
   "execution_count": 13,
   "id": "284ae98a",
   "metadata": {},
   "outputs": [
    {
     "data": {
      "text/plain": [
       "((200, 3), (200,))"
      ]
     },
     "execution_count": 13,
     "metadata": {},
     "output_type": "execute_result"
    }
   ],
   "source": [
    "X=df.drop('Sales',axis=1)\n",
    "Y=df['Sales']\n",
    "X.shape,Y.shape"
   ]
  },
  {
   "cell_type": "code",
   "execution_count": 25,
   "id": "22871d0a",
   "metadata": {},
   "outputs": [],
   "source": [
    "X=X.values\n",
    "Y=Y.values"
   ]
  },
  {
   "cell_type": "code",
   "execution_count": 26,
   "id": "07aa8566",
   "metadata": {},
   "outputs": [],
   "source": [
    "x_train,x_test,y_train,y_test = train_test_split(X,Y,test_size = 0.3 , random_state = 1)"
   ]
  },
  {
   "cell_type": "code",
   "execution_count": 27,
   "id": "f69758dc",
   "metadata": {},
   "outputs": [
    {
     "data": {
      "text/plain": [
       "LinearRegression()"
      ]
     },
     "execution_count": 27,
     "metadata": {},
     "output_type": "execute_result"
    }
   ],
   "source": [
    "LR.fit(x_train,y_train)"
   ]
  },
  {
   "cell_type": "code",
   "execution_count": 28,
   "id": "fb3db0b1",
   "metadata": {},
   "outputs": [
    {
     "name": "stdout",
     "output_type": "stream",
     "text": [
      "0.899374584012456\n"
     ]
    }
   ],
   "source": [
    "training_score = LR.score(x_train,y_train)\n",
    "print(training_score)"
   ]
  },
  {
   "cell_type": "code",
   "execution_count": 29,
   "id": "4f0e27fb",
   "metadata": {},
   "outputs": [],
   "source": [
    "y_predict = LR.predict(x_test)"
   ]
  },
  {
   "cell_type": "code",
   "execution_count": 30,
   "id": "b60d6201",
   "metadata": {},
   "outputs": [
    {
     "name": "stdout",
     "output_type": "stream",
     "text": [
      "[21.28816103 18.04213212 10.0595901  21.08224067 20.76476044 24.47187353\n",
      " 16.80643646 15.62885738 10.12479884 18.84601896 15.78389695 10.54297035\n",
      " 18.92928707 15.52557996 17.8412711  15.24120343 13.74212833 21.0643733\n",
      " 10.05392699 19.26500889 11.16451173 11.97211832  8.61179009 11.98972141\n",
      " 12.59914023 16.8447954   9.7170889  21.09489946 18.13942474 19.55008709\n",
      " 22.08796224 17.78527998 16.53883452 14.77303861 21.39458945 16.95491635\n",
      " 17.22755002 12.31866943 21.04982199  7.77473926  5.38467516  9.63139004\n",
      "  6.89549204 19.19507436  7.88125192 15.18766673 13.70978421 21.0232936\n",
      " 20.5350058  20.48867548 24.86087902 14.96304281  7.33545571 19.35630325\n",
      " 21.32554066 14.7719757  17.19642519  7.11988693 18.30096543  9.65158222]\n"
     ]
    }
   ],
   "source": [
    "print(y_predict)"
   ]
  },
  {
   "cell_type": "code",
   "execution_count": 31,
   "id": "38181d58",
   "metadata": {},
   "outputs": [
    {
     "name": "stdout",
     "output_type": "stream",
     "text": [
      "0.9071151423684273\n"
     ]
    }
   ],
   "source": [
    "testing_score = LR.score(x_test,y_test)\n",
    "print(testing_score)"
   ]
  },
  {
   "cell_type": "code",
   "execution_count": 32,
   "id": "a55390f4",
   "metadata": {},
   "outputs": [
    {
     "data": {
      "text/plain": [
       "(60,)"
      ]
     },
     "execution_count": 32,
     "metadata": {},
     "output_type": "execute_result"
    }
   ],
   "source": [
    "y_test.shape"
   ]
  },
  {
   "cell_type": "code",
   "execution_count": 33,
   "id": "55148a87",
   "metadata": {},
   "outputs": [
    {
     "data": {
      "text/plain": [
       "(60,)"
      ]
     },
     "execution_count": 33,
     "metadata": {},
     "output_type": "execute_result"
    }
   ],
   "source": [
    "y_predict.shape"
   ]
  },
  {
   "cell_type": "code",
   "execution_count": 34,
   "id": "de4c2d42",
   "metadata": {},
   "outputs": [
    {
     "name": "stdout",
     "output_type": "stream",
     "text": [
      "[21.28816103 18.04213212 10.0595901  21.08224067 20.76476044 24.47187353\n",
      " 16.80643646 15.62885738 10.12479884 18.84601896 15.78389695 10.54297035\n",
      " 18.92928707 15.52557996 17.8412711  15.24120343 13.74212833 21.0643733\n",
      " 10.05392699 19.26500889 11.16451173 11.97211832  8.61179009 11.98972141\n",
      " 12.59914023 16.8447954   9.7170889  21.09489946 18.13942474 19.55008709\n",
      " 22.08796224 17.78527998 16.53883452 14.77303861 21.39458945 16.95491635\n",
      " 17.22755002 12.31866943 21.04982199  7.77473926  5.38467516  9.63139004\n",
      "  6.89549204 19.19507436  7.88125192 15.18766673 13.70978421 21.0232936\n",
      " 20.5350058  20.48867548 24.86087902 14.96304281  7.33545571 19.35630325\n",
      " 21.32554066 14.7719757  17.19642519  7.11988693 18.30096543  9.65158222]\n"
     ]
    }
   ],
   "source": [
    "print(y_predict)"
   ]
  },
  {
   "cell_type": "code",
   "execution_count": 35,
   "id": "1f8bfd54",
   "metadata": {},
   "outputs": [
    {
     "name": "stdout",
     "output_type": "stream",
     "text": [
      "[23.8 16.6 11.9 19.8 17.6 25.5 16.9 17.9 10.5 17.1 17.5 11.3 17.4 16.7\n",
      " 18.4 15.9 12.9 17.8  9.5 18.4 10.7 12.5  8.5 11.5 11.9 19.9 10.1 18.9\n",
      " 19.6 20.9 23.2 16.9 17.3 16.7 20.2 20.5 16.5 11.  22.3  7.6  5.3 12.\n",
      "  6.7 19.   5.5 14.6 14.6 21.5 22.6 19.7 25.4 15.2  6.6 21.2 17.4 17.6\n",
      " 17.2  7.2 18.4  9.6]\n"
     ]
    }
   ],
   "source": [
    "print(y_test)"
   ]
  },
  {
   "cell_type": "code",
   "execution_count": null,
   "id": "5a2223ae",
   "metadata": {},
   "outputs": [],
   "source": []
  }
 ],
 "metadata": {
  "kernelspec": {
   "display_name": "Python 3 (ipykernel)",
   "language": "python",
   "name": "python3"
  },
  "language_info": {
   "codemirror_mode": {
    "name": "ipython",
    "version": 3
   },
   "file_extension": ".py",
   "mimetype": "text/x-python",
   "name": "python",
   "nbconvert_exporter": "python",
   "pygments_lexer": "ipython3",
   "version": "3.9.12"
  }
 },
 "nbformat": 4,
 "nbformat_minor": 5
}
